{
 "cells": [
  {
   "cell_type": "code",
   "execution_count": 1,
   "id": "initial_id",
   "metadata": {
    "collapsed": true,
    "is_executing": true
   },
   "outputs": [
    {
     "name": "stdout",
     "output_type": "stream",
     "text": [
      "showing info https://raw.githubusercontent.com/nltk/nltk_data/gh-pages/index.xml\n"
     ]
    },
    {
     "data": {
      "text/plain": [
       "True"
      ]
     },
     "execution_count": 1,
     "metadata": {},
     "output_type": "execute_result"
    }
   ],
   "source": [
    "from nltk import download as nltkdownload\n",
    "nltkdownload()\n"
   ]
  },
  {
   "cell_type": "code",
   "execution_count": 3,
   "id": "ff78413b0dfa3b5f",
   "metadata": {
    "collapsed": false
   },
   "outputs": [
    {
     "name": "stderr",
     "output_type": "stream",
     "text": [
      "[nltk_data] Downloading package gutenberg to\n",
      "[nltk_data]     C:\\Users\\rafacampa9\\AppData\\Roaming\\nltk_data...\n",
      "[nltk_data]   Unzipping corpora\\gutenberg.zip.\n"
     ]
    },
    {
     "data": {
      "text/plain": [
       "['austen-emma.txt',\n",
       " 'austen-persuasion.txt',\n",
       " 'austen-sense.txt',\n",
       " 'bible-kjv.txt',\n",
       " 'blake-poems.txt',\n",
       " 'bryant-stories.txt',\n",
       " 'burgess-busterbrown.txt',\n",
       " 'carroll-alice.txt',\n",
       " 'chesterton-ball.txt',\n",
       " 'chesterton-brown.txt',\n",
       " 'chesterton-thursday.txt',\n",
       " 'edgeworth-parents.txt',\n",
       " 'melville-moby_dick.txt',\n",
       " 'milton-paradise.txt',\n",
       " 'shakespeare-caesar.txt',\n",
       " 'shakespeare-hamlet.txt',\n",
       " 'shakespeare-macbeth.txt',\n",
       " 'whitman-leaves.txt']"
      ]
     },
     "execution_count": 3,
     "metadata": {},
     "output_type": "execute_result"
    }
   ],
   "source": [
    "from nltk import corpus\n",
    "\n",
    "nltkdownload('gutenberg')\n",
    "\n",
    "corpus.gutenberg.fileids()"
   ]
  },
  {
   "cell_type": "code",
   "execution_count": 5,
   "id": "3ab3e4b2",
   "metadata": {},
   "outputs": [
    {
     "data": {
      "text/plain": [
       "'\\nEn un lugar de la Mancha, de cuyo nombre no quiero acordarme, no ha mucho tiempo que vivía un hidalgo de los de lanza en astillero, adarga antigua, rocín flaco y galgo corredor. Una olla de algo más vaca que carnero, salpicón las más noches, duelos y quebrantos los sábados, lantejas los viernes, algún palomino de añadidura los domingos, consumían las tres partes de su hacienda. El resto della concluían sayo de velarte, calzas de velludo para las fiestas, con sus pantuflos de lo mesmo, y los días de entresemana se honraba con su vellorí de lo más fino. Tenía en su casa una ama que pasaba de los cuarenta y una sobrina que no llegaba a los veinte, y un mozo de campo y plaza que así ensillaba el rocín como tomaba la podadera. Frisaba la edad de nuestro hidalgo con los cincuenta años. Era de complexión recia, seco de carnes, enjuto de rostro, gran madrugador y amigo de la caza. Quieren decir que tenía el sobrenombre de «Quijada», o «Quesada», que en esto hay alguna diferencia en los autores que deste caso escriben, aunque por conjeturas verisímiles se deja entender que se llamaba «Quijana»,. Pero esto importa poco a nuestro cuento: basta que en la narración dél no se salga un punto de la verdad.\\n\\nEs, pues, de saber que este sobredicho hidalgo, los ratos que estaba ocioso —que eran los más del año—, se daba a leer libros de caballerías, con tanta afición y gusto, que olvidó casi de todo punto el ejercicio de la caza y aun la administración de su hacienda; y llegó a tanto su curiosidad y desatino en esto, que vendió muchas hanegas de tierra de sembradura para comprar libros de caballerías en que leer, y, así, llevó a su casa todos cuantos pudo haber dellos; y, de todos, ningunos le parecían tan bien como los que compuso el famoso Feliciano de Silva, porque la claridad de su prosa y aquellas entricadas razones suyas le parecían de perlas, y más cuando llegaba a leer aquellos requiebros y cartas de desafíos, donde en muchas partes hallaba escrito: «La razón de la sinrazón que a mi razón se hace, de tal manera mi razón enflaquece, que con razón me quejo de la vuestra fermosura». Y también cuando leía: «Los altos cielos que de vuestra divinidad divinamente con las estrellas os fortifican y os hacen merecedora del merecimiento que merece la vuestra grandeza...»\\n\\nCon estas razones perdía el pobre caballero el juicio, y desvelábase por entenderlas y desentrañarles el sentido, que no se lo sacara ni las entendiera el mesmo Aristóteles, si resucitara para solo ello. No estaba muy bien con las heridas que don Belianís daba y recebía, porque se imaginaba que, por grandes maestros que le hubiesen curado, no dejaría de tener el rostro y todo el cuerpo lleno de cicatrices y señales. Pero, con todo, alababa en su autor aquel acabar su libro con la promesa de aquella inacabable aventura, y muchas veces le vino deseo de tomar la pluma y dalle fin al pie de la letra como allí se promete; y sin duda alguna lo hiciera, y aun saliera con ello, si otros mayores y continuos pensamientos no se lo estorbaran. Tuvo muchas veces competencia con el cura de su lugar —que era hombre docto, graduado en Cigüenza— sobre cuál había sido mejor caballero: Palmerín de Ingalaterra o Amadís de Gaula; mas maese Nicolás, barbero del mesmo pueblo, decía que ninguno llegaba al Caballero del Febo, y que si alguno se le podía comparar era don Galaor, hermano de Amadís de Gaula, porque tenía muy acomodada condición para todo, que no era caballero melindroso, ni tan llorón como su hermano, y que en lo de la valentía no le iba en zaga.\\n'"
      ]
     },
     "execution_count": 5,
     "metadata": {},
     "output_type": "execute_result"
    }
   ],
   "source": [
    "don_quijote=\"\"\"\n",
    "En un lugar de la Mancha, de cuyo nombre no quiero acordarme, no ha mucho tiempo que vivía un hidalgo de los de lanza en astillero, adarga antigua, rocín flaco y galgo corredor. Una olla de algo más vaca que carnero, salpicón las más noches, duelos y quebrantos los sábados, lantejas los viernes, algún palomino de añadidura los domingos, consumían las tres partes de su hacienda. El resto della concluían sayo de velarte, calzas de velludo para las fiestas, con sus pantuflos de lo mesmo, y los días de entresemana se honraba con su vellorí de lo más fino. Tenía en su casa una ama que pasaba de los cuarenta y una sobrina que no llegaba a los veinte, y un mozo de campo y plaza que así ensillaba el rocín como tomaba la podadera. Frisaba la edad de nuestro hidalgo con los cincuenta años. Era de complexión recia, seco de carnes, enjuto de rostro, gran madrugador y amigo de la caza. Quieren decir que tenía el sobrenombre de «Quijada», o «Quesada», que en esto hay alguna diferencia en los autores que deste caso escriben, aunque por conjeturas verisímiles se deja entender que se llamaba «Quijana»,. Pero esto importa poco a nuestro cuento: basta que en la narración dél no se salga un punto de la verdad.\n",
    "\n",
    "Es, pues, de saber que este sobredicho hidalgo, los ratos que estaba ocioso —que eran los más del año—, se daba a leer libros de caballerías, con tanta afición y gusto, que olvidó casi de todo punto el ejercicio de la caza y aun la administración de su hacienda; y llegó a tanto su curiosidad y desatino en esto, que vendió muchas hanegas de tierra de sembradura para comprar libros de caballerías en que leer, y, así, llevó a su casa todos cuantos pudo haber dellos; y, de todos, ningunos le parecían tan bien como los que compuso el famoso Feliciano de Silva, porque la claridad de su prosa y aquellas entricadas razones suyas le parecían de perlas, y más cuando llegaba a leer aquellos requiebros y cartas de desafíos, donde en muchas partes hallaba escrito: «La razón de la sinrazón que a mi razón se hace, de tal manera mi razón enflaquece, que con razón me quejo de la vuestra fermosura». Y también cuando leía: «Los altos cielos que de vuestra divinidad divinamente con las estrellas os fortifican y os hacen merecedora del merecimiento que merece la vuestra grandeza...»\n",
    "\n",
    "Con estas razones perdía el pobre caballero el juicio, y desvelábase por entenderlas y desentrañarles el sentido, que no se lo sacara ni las entendiera el mesmo Aristóteles, si resucitara para solo ello. No estaba muy bien con las heridas que don Belianís daba y recebía, porque se imaginaba que, por grandes maestros que le hubiesen curado, no dejaría de tener el rostro y todo el cuerpo lleno de cicatrices y señales. Pero, con todo, alababa en su autor aquel acabar su libro con la promesa de aquella inacabable aventura, y muchas veces le vino deseo de tomar la pluma y dalle fin al pie de la letra como allí se promete; y sin duda alguna lo hiciera, y aun saliera con ello, si otros mayores y continuos pensamientos no se lo estorbaran. Tuvo muchas veces competencia con el cura de su lugar —que era hombre docto, graduado en Cigüenza— sobre cuál había sido mejor caballero: Palmerín de Ingalaterra o Amadís de Gaula; mas maese Nicolás, barbero del mesmo pueblo, decía que ninguno llegaba al Caballero del Febo, y que si alguno se le podía comparar era don Galaor, hermano de Amadís de Gaula, porque tenía muy acomodada condición para todo, que no era caballero melindroso, ni tan llorón como su hermano, y que en lo de la valentía no le iba en zaga.\n",
    "\"\"\"\n",
    "\n",
    "don_quijote"
   ]
  },
  {
   "cell_type": "code",
   "execution_count": 7,
   "id": "093e3978",
   "metadata": {},
   "outputs": [
    {
     "name": "stderr",
     "output_type": "stream",
     "text": [
      "[nltk_data] Downloading package punkt to\n",
      "[nltk_data]     C:\\Users\\rafacampa9\\AppData\\Roaming\\nltk_data...\n",
      "[nltk_data]   Unzipping tokenizers\\punkt.zip.\n"
     ]
    },
    {
     "name": "stdout",
     "output_type": "stream",
     "text": [
      "<class 'list'>\n"
     ]
    }
   ],
   "source": [
    "nltkdownload('punkt')\n",
    "from nltk.tokenize import word_tokenize\n",
    "words = word_tokenize(don_quijote)\n",
    "print(type(words))"
   ]
  },
  {
   "cell_type": "code",
   "execution_count": 8,
   "id": "47f1a1ba",
   "metadata": {},
   "outputs": [
    {
     "data": {
      "text/plain": [
       "['En',\n",
       " 'un',\n",
       " 'lugar',\n",
       " 'de',\n",
       " 'la',\n",
       " 'Mancha',\n",
       " ',',\n",
       " 'de',\n",
       " 'cuyo',\n",
       " 'nombre',\n",
       " 'no',\n",
       " 'quiero',\n",
       " 'acordarme',\n",
       " ',',\n",
       " 'no',\n",
       " 'ha',\n",
       " 'mucho',\n",
       " 'tiempo',\n",
       " 'que',\n",
       " 'vivía']"
      ]
     },
     "execution_count": 8,
     "metadata": {},
     "output_type": "execute_result"
    }
   ],
   "source": [
    "words[0:20]"
   ]
  },
  {
   "cell_type": "code",
   "execution_count": 9,
   "id": "37e38cfa",
   "metadata": {},
   "outputs": [
    {
     "data": {
      "text/plain": [
       "['en',\n",
       " 'un',\n",
       " 'lugar',\n",
       " 'de',\n",
       " 'la',\n",
       " 'mancha',\n",
       " ',',\n",
       " 'de',\n",
       " 'cuyo',\n",
       " 'nombre',\n",
       " 'no',\n",
       " 'quiero',\n",
       " 'acordarme',\n",
       " ',',\n",
       " 'no',\n",
       " 'ha',\n",
       " 'mucho',\n",
       " 'tiempo',\n",
       " 'que',\n",
       " 'vivía']"
      ]
     },
     "execution_count": 9,
     "metadata": {},
     "output_type": "execute_result"
    }
   ],
   "source": [
    "words_lowercase =[word.lower() for word in words]\n",
    "words_lowercase[0:20]"
   ]
  },
  {
   "cell_type": "markdown",
   "id": "eb462c04",
   "metadata": {},
   "source": [
    "Eliminamos signos de puntuación y caracteres no alfabéticos"
   ]
  },
  {
   "cell_type": "code",
   "execution_count": 10,
   "id": "782778e3",
   "metadata": {},
   "outputs": [
    {
     "data": {
      "text/plain": [
       "['En',\n",
       " 'un',\n",
       " 'lugar',\n",
       " 'de',\n",
       " 'la',\n",
       " 'Mancha',\n",
       " 'de',\n",
       " 'cuyo',\n",
       " 'nombre',\n",
       " 'no',\n",
       " 'quiero',\n",
       " 'acordarme',\n",
       " 'no',\n",
       " 'ha',\n",
       " 'mucho',\n",
       " 'tiempo',\n",
       " 'que',\n",
       " 'vivía',\n",
       " 'un',\n",
       " 'hidalgo']"
      ]
     },
     "execution_count": 10,
     "metadata": {},
     "output_type": "execute_result"
    }
   ],
   "source": [
    "real_words = [word for word in words if word.isalpha()]\n",
    "real_words[0:20]"
   ]
  },
  {
   "cell_type": "markdown",
   "id": "59356d33",
   "metadata": {},
   "source": [
    "Eliminamos palabras vacías"
   ]
  },
  {
   "cell_type": "code",
   "execution_count": 12,
   "id": "cbcd17e9",
   "metadata": {},
   "outputs": [
    {
     "name": "stderr",
     "output_type": "stream",
     "text": [
      "[nltk_data] Downloading package stopwords to\n",
      "[nltk_data]     C:\\Users\\rafacampa9\\AppData\\Roaming\\nltk_data...\n",
      "[nltk_data]   Unzipping corpora\\stopwords.zip.\n"
     ]
    },
    {
     "data": {
      "text/plain": [
       "['estas',\n",
       " 'seré',\n",
       " 'nosotros',\n",
       " 'sea',\n",
       " 'seremos',\n",
       " 'sintiendo',\n",
       " 'nada',\n",
       " 'hasta',\n",
       " 'eres',\n",
       " 'habían',\n",
       " 'estuvimos',\n",
       " 'habidos',\n",
       " 'poco',\n",
       " 'estuviesen',\n",
       " 'estos',\n",
       " 'hayáis',\n",
       " 'se',\n",
       " 'tenidas',\n",
       " 'hubiesen',\n",
       " 'ya']"
      ]
     },
     "execution_count": 12,
     "metadata": {},
     "output_type": "execute_result"
    }
   ],
   "source": [
    "nltkdownload('stopwords')\n",
    "from nltk.corpus import stopwords\n",
    "empty_words = set(stopwords.words('spanish'))\n",
    "list(empty_words)[0:20]"
   ]
  },
  {
   "cell_type": "code",
   "execution_count": 13,
   "id": "186092e4",
   "metadata": {},
   "outputs": [
    {
     "data": {
      "text/plain": [
       "313"
      ]
     },
     "execution_count": 13,
     "metadata": {},
     "output_type": "execute_result"
    }
   ],
   "source": [
    "len(empty_words)"
   ]
  },
  {
   "cell_type": "code",
   "execution_count": 14,
   "id": "5c890087",
   "metadata": {},
   "outputs": [
    {
     "data": {
      "text/plain": [
       "['En',\n",
       " 'lugar',\n",
       " 'Mancha',\n",
       " 'cuyo',\n",
       " 'nombre',\n",
       " 'quiero',\n",
       " 'acordarme',\n",
       " 'tiempo',\n",
       " 'vivía',\n",
       " 'hidalgo',\n",
       " 'lanza',\n",
       " 'astillero',\n",
       " 'adarga',\n",
       " 'antigua',\n",
       " 'rocín',\n",
       " 'flaco',\n",
       " 'galgo',\n",
       " 'corredor',\n",
       " 'Una',\n",
       " 'olla',\n",
       " 'vaca',\n",
       " 'carnero',\n",
       " 'salpicón',\n",
       " 'noches',\n",
       " 'duelos',\n",
       " 'quebrantos',\n",
       " 'sábados',\n",
       " 'lantejas',\n",
       " 'viernes',\n",
       " 'algún',\n",
       " 'palomino',\n",
       " 'añadidura',\n",
       " 'domingos',\n",
       " 'consumían',\n",
       " 'tres',\n",
       " 'partes',\n",
       " 'hacienda',\n",
       " 'El',\n",
       " 'resto',\n",
       " 'della',\n",
       " 'concluían',\n",
       " 'sayo',\n",
       " 'velarte',\n",
       " 'calzas',\n",
       " 'velludo',\n",
       " 'fiestas',\n",
       " 'pantuflos',\n",
       " 'mesmo',\n",
       " 'días',\n",
       " 'entresemana',\n",
       " 'honraba',\n",
       " 'vellorí',\n",
       " 'fino',\n",
       " 'Tenía',\n",
       " 'casa',\n",
       " 'ama',\n",
       " 'pasaba',\n",
       " 'cuarenta',\n",
       " 'sobrina',\n",
       " 'llegaba',\n",
       " 'veinte',\n",
       " 'mozo',\n",
       " 'campo',\n",
       " 'plaza',\n",
       " 'así',\n",
       " 'ensillaba',\n",
       " 'rocín',\n",
       " 'tomaba',\n",
       " 'podadera',\n",
       " 'Frisaba',\n",
       " 'edad',\n",
       " 'hidalgo',\n",
       " 'cincuenta',\n",
       " 'años',\n",
       " 'Era',\n",
       " 'complexión',\n",
       " 'recia',\n",
       " 'seco',\n",
       " 'carnes',\n",
       " 'enjuto',\n",
       " 'rostro',\n",
       " 'gran',\n",
       " 'madrugador',\n",
       " 'amigo',\n",
       " 'caza',\n",
       " 'Quieren',\n",
       " 'decir',\n",
       " 'sobrenombre',\n",
       " 'Quijada',\n",
       " 'Quesada',\n",
       " 'alguna',\n",
       " 'diferencia',\n",
       " 'autores',\n",
       " 'deste',\n",
       " 'caso',\n",
       " 'escriben',\n",
       " 'aunque',\n",
       " 'conjeturas',\n",
       " 'verisímiles',\n",
       " 'deja',\n",
       " 'entender',\n",
       " 'llamaba',\n",
       " 'Quijana',\n",
       " 'Pero',\n",
       " 'importa',\n",
       " 'cuento',\n",
       " 'basta',\n",
       " 'narración',\n",
       " 'dél',\n",
       " 'salga',\n",
       " 'punto',\n",
       " 'verdad',\n",
       " 'Es',\n",
       " 'pues',\n",
       " 'saber',\n",
       " 'sobredicho',\n",
       " 'hidalgo',\n",
       " 'ratos',\n",
       " 'ocioso',\n",
       " 'daba',\n",
       " 'leer',\n",
       " 'libros',\n",
       " 'caballerías',\n",
       " 'tanta',\n",
       " 'afición',\n",
       " 'gusto',\n",
       " 'olvidó',\n",
       " 'casi',\n",
       " 'punto',\n",
       " 'ejercicio',\n",
       " 'caza',\n",
       " 'aun',\n",
       " 'administración',\n",
       " 'hacienda',\n",
       " 'llegó',\n",
       " 'curiosidad',\n",
       " 'desatino',\n",
       " 'vendió',\n",
       " 'muchas',\n",
       " 'hanegas',\n",
       " 'tierra',\n",
       " 'sembradura',\n",
       " 'comprar',\n",
       " 'libros',\n",
       " 'caballerías',\n",
       " 'leer',\n",
       " 'así',\n",
       " 'llevó',\n",
       " 'casa',\n",
       " 'cuantos',\n",
       " 'pudo',\n",
       " 'haber',\n",
       " 'dellos',\n",
       " 'ningunos',\n",
       " 'parecían',\n",
       " 'tan',\n",
       " 'bien',\n",
       " 'compuso',\n",
       " 'famoso',\n",
       " 'Feliciano',\n",
       " 'Silva',\n",
       " 'claridad',\n",
       " 'prosa',\n",
       " 'aquellas',\n",
       " 'entricadas',\n",
       " 'razones',\n",
       " 'parecían',\n",
       " 'perlas',\n",
       " 'llegaba',\n",
       " 'leer',\n",
       " 'aquellos',\n",
       " 'requiebros',\n",
       " 'cartas',\n",
       " 'desafíos',\n",
       " 'muchas',\n",
       " 'partes',\n",
       " 'hallaba',\n",
       " 'escrito',\n",
       " 'La',\n",
       " 'razón',\n",
       " 'sinrazón',\n",
       " 'razón',\n",
       " 'hace',\n",
       " 'tal',\n",
       " 'manera',\n",
       " 'razón',\n",
       " 'enflaquece',\n",
       " 'razón',\n",
       " 'quejo',\n",
       " 'fermosura',\n",
       " 'Y',\n",
       " 'leía',\n",
       " 'Los',\n",
       " 'altos',\n",
       " 'cielos',\n",
       " 'divinidad',\n",
       " 'divinamente',\n",
       " 'estrellas',\n",
       " 'fortifican',\n",
       " 'hacen',\n",
       " 'merecedora',\n",
       " 'merecimiento',\n",
       " 'merece',\n",
       " 'grandeza',\n",
       " 'Con',\n",
       " 'razones',\n",
       " 'perdía',\n",
       " 'pobre',\n",
       " 'caballero',\n",
       " 'juicio',\n",
       " 'desvelábase',\n",
       " 'entenderlas',\n",
       " 'desentrañarles',\n",
       " 'sacara',\n",
       " 'entendiera',\n",
       " 'mesmo',\n",
       " 'Aristóteles',\n",
       " 'si',\n",
       " 'resucitara',\n",
       " 'solo',\n",
       " 'ello',\n",
       " 'No',\n",
       " 'bien',\n",
       " 'heridas',\n",
       " 'don',\n",
       " 'Belianís',\n",
       " 'daba',\n",
       " 'recebía',\n",
       " 'imaginaba',\n",
       " 'grandes',\n",
       " 'maestros',\n",
       " 'curado',\n",
       " 'dejaría',\n",
       " 'tener',\n",
       " 'rostro',\n",
       " 'cuerpo',\n",
       " 'lleno',\n",
       " 'cicatrices',\n",
       " 'señales',\n",
       " 'Pero',\n",
       " 'alababa',\n",
       " 'autor',\n",
       " 'aquel',\n",
       " 'acabar',\n",
       " 'libro',\n",
       " 'promesa',\n",
       " 'aquella',\n",
       " 'inacabable',\n",
       " 'aventura',\n",
       " 'muchas',\n",
       " 'veces',\n",
       " 'vino',\n",
       " 'deseo',\n",
       " 'tomar',\n",
       " 'pluma',\n",
       " 'dalle',\n",
       " 'fin',\n",
       " 'pie',\n",
       " 'letra',\n",
       " 'allí',\n",
       " 'promete',\n",
       " 'duda',\n",
       " 'alguna',\n",
       " 'hiciera',\n",
       " 'aun',\n",
       " 'saliera',\n",
       " 'ello',\n",
       " 'si',\n",
       " 'mayores',\n",
       " 'continuos',\n",
       " 'pensamientos',\n",
       " 'estorbaran',\n",
       " 'Tuvo',\n",
       " 'muchas',\n",
       " 'veces',\n",
       " 'competencia',\n",
       " 'cura',\n",
       " 'lugar',\n",
       " 'hombre',\n",
       " 'docto',\n",
       " 'graduado',\n",
       " 'cuál',\n",
       " 'sido',\n",
       " 'mejor',\n",
       " 'caballero',\n",
       " 'Palmerín',\n",
       " 'Ingalaterra',\n",
       " 'Amadís',\n",
       " 'Gaula',\n",
       " 'mas',\n",
       " 'maese',\n",
       " 'Nicolás',\n",
       " 'barbero',\n",
       " 'mesmo',\n",
       " 'pueblo',\n",
       " 'decía',\n",
       " 'ninguno',\n",
       " 'llegaba',\n",
       " 'Caballero',\n",
       " 'Febo',\n",
       " 'si',\n",
       " 'alguno',\n",
       " 'podía',\n",
       " 'comparar',\n",
       " 'don',\n",
       " 'Galaor',\n",
       " 'hermano',\n",
       " 'Amadís',\n",
       " 'Gaula',\n",
       " 'acomodada',\n",
       " 'condición',\n",
       " 'caballero',\n",
       " 'melindroso',\n",
       " 'tan',\n",
       " 'llorón',\n",
       " 'hermano',\n",
       " 'valentía',\n",
       " 'iba',\n",
       " 'zaga']"
      ]
     },
     "execution_count": 14,
     "metadata": {},
     "output_type": "execute_result"
    }
   ],
   "source": [
    "highligh_words = [word for word in real_words if word not in empty_words]\n",
    "highligh_words"
   ]
  },
  {
   "cell_type": "markdown",
   "id": "51d2e4a8",
   "metadata": {},
   "source": [
    "- Stemming de las palabras\n",
    "Todas las palabras formales convergen a una única palabra (Ej.: \"vivir\", \"vivían\", \"vive\")"
   ]
  },
  {
   "cell_type": "code",
   "execution_count": 15,
   "id": "70c8aa43",
   "metadata": {},
   "outputs": [
    {
     "data": {
      "text/plain": [
       "['en',\n",
       " 'lug',\n",
       " 'manch',\n",
       " 'cuy',\n",
       " 'nombr',\n",
       " 'quier',\n",
       " 'acord',\n",
       " 'tiemp',\n",
       " 'viv',\n",
       " 'hidalg',\n",
       " 'lanz',\n",
       " 'astiller',\n",
       " 'adarg',\n",
       " 'antigu',\n",
       " 'rocin',\n",
       " 'flac',\n",
       " 'galg',\n",
       " 'corredor',\n",
       " 'una',\n",
       " 'olla']"
      ]
     },
     "execution_count": 15,
     "metadata": {},
     "output_type": "execute_result"
    }
   ],
   "source": [
    "from nltk.stem import SnowballStemmer\n",
    "stemmer = SnowballStemmer('spanish')\n",
    "root_words= [stemmer.stem(word) for word in highligh_words]\n",
    "root_words[0:20]"
   ]
  },
  {
   "cell_type": "markdown",
   "id": "c5b0b4fc",
   "metadata": {},
   "source": [
    "Descargamos spacy"
   ]
  },
  {
   "cell_type": "code",
   "execution_count": 18,
   "id": "a1ce74fc",
   "metadata": {},
   "outputs": [
    {
     "data": {
      "text/plain": [
       "\n",
       "En un lugar de la Mancha, de cuyo nombre no quiero acordarme, no ha mucho tiempo que vivía un hidalgo de los de lanza en astillero, adarga antigua, rocín flaco y galgo corredor. Una olla de algo más vaca que carnero, salpicón las más noches, duelos y quebrantos los sábados, lantejas los viernes, algún palomino de añadidura los domingos, consumían las tres partes de su hacienda. El resto della concluían sayo de velarte, calzas de velludo para las fiestas, con sus pantuflos de lo mesmo, y los días de entresemana se honraba con su vellorí de lo más fino. Tenía en su casa una ama que pasaba de los cuarenta y una sobrina que no llegaba a los veinte, y un mozo de campo y plaza que así ensillaba el rocín como tomaba la podadera. Frisaba la edad de nuestro hidalgo con los cincuenta años. Era de complexión recia, seco de carnes, enjuto de rostro, gran madrugador y amigo de la caza. Quieren decir que tenía el sobrenombre de «Quijada», o «Quesada», que en esto hay alguna diferencia en los autores que deste caso escriben, aunque por conjeturas verisímiles se deja entender que se llamaba «Quijana»,. Pero esto importa poco a nuestro cuento: basta que en la narración dél no se salga un punto de la verdad.\n",
       "\n",
       "Es, pues, de saber que este sobredicho hidalgo, los ratos que estaba ocioso —que eran los más del año—, se daba a leer libros de caballerías, con tanta afición y gusto, que olvidó casi de todo punto el ejercicio de la caza y aun la administración de su hacienda; y llegó a tanto su curiosidad y desatino en esto, que vendió muchas hanegas de tierra de sembradura para comprar libros de caballerías en que leer, y, así, llevó a su casa todos cuantos pudo haber dellos; y, de todos, ningunos le parecían tan bien como los que compuso el famoso Feliciano de Silva, porque la claridad de su prosa y aquellas entricadas razones suyas le parecían de perlas, y más cuando llegaba a leer aquellos requiebros y cartas de desafíos, donde en muchas partes hallaba escrito: «La razón de la sinrazón que a mi razón se hace, de tal manera mi razón enflaquece, que con razón me quejo de la vuestra fermosura». Y también cuando leía: «Los altos cielos que de vuestra divinidad divinamente con las estrellas os fortifican y os hacen merecedora del merecimiento que merece la vuestra grandeza...»\n",
       "\n",
       "Con estas razones perdía el pobre caballero el juicio, y desvelábase por entenderlas y desentrañarles el sentido, que no se lo sacara ni las entendiera el mesmo Aristóteles, si resucitara para solo ello. No estaba muy bien con las heridas que don Belianís daba y recebía, porque se imaginaba que, por grandes maestros que le hubiesen curado, no dejaría de tener el rostro y todo el cuerpo lleno de cicatrices y señales. Pero, con todo, alababa en su autor aquel acabar su libro con la promesa de aquella inacabable aventura, y muchas veces le vino deseo de tomar la pluma y dalle fin al pie de la letra como allí se promete; y sin duda alguna lo hiciera, y aun saliera con ello, si otros mayores y continuos pensamientos no se lo estorbaran. Tuvo muchas veces competencia con el cura de su lugar —que era hombre docto, graduado en Cigüenza— sobre cuál había sido mejor caballero: Palmerín de Ingalaterra o Amadís de Gaula; mas maese Nicolás, barbero del mesmo pueblo, decía que ninguno llegaba al Caballero del Febo, y que si alguno se le podía comparar era don Galaor, hermano de Amadís de Gaula, porque tenía muy acomodada condición para todo, que no era caballero melindroso, ni tan llorón como su hermano, y que en lo de la valentía no le iba en zaga."
      ]
     },
     "execution_count": 18,
     "metadata": {},
     "output_type": "execute_result"
    }
   ],
   "source": [
    "from spacy import load as spacyLoad\n",
    "\n",
    "model_sp = spacyLoad(\"es_core_news_sm\")\n",
    "don_quijote_sp=model_sp(don_quijote)\n",
    "don_quijote_sp"
   ]
  },
  {
   "cell_type": "markdown",
   "id": "453f8ec7",
   "metadata": {},
   "source": [
    "Con estos sencillos pasos ya podemos hacer un análisis morfológico del texto:"
   ]
  },
  {
   "cell_type": "code",
   "execution_count": 19,
   "id": "40ebbb6f",
   "metadata": {},
   "outputs": [
    {
     "name": "stdout",
     "output_type": "stream",
     "text": [
      "\n",
      " SPACE\n",
      "En ADP\n",
      "un DET\n",
      "lugar NOUN\n",
      "de ADP\n",
      "la DET\n",
      "Mancha PROPN\n",
      ", PUNCT\n",
      "de ADP\n",
      "cuyo PRON\n",
      "nombre NOUN\n",
      "no ADV\n",
      "quiero VERB\n",
      "acordarme VERB\n",
      ", PUNCT\n",
      "no ADV\n",
      "ha AUX\n",
      "mucho DET\n",
      "tiempo NOUN\n",
      "que SCONJ\n",
      "vivía VERB\n",
      "un DET\n",
      "hidalgo NOUN\n",
      "de ADP\n",
      "los DET\n",
      "de ADP\n",
      "lanza NOUN\n",
      "en ADP\n",
      "astillero NOUN\n",
      ", PUNCT\n",
      "adarga NOUN\n"
     ]
    }
   ],
   "source": [
    "contador = 0\n",
    "for token in don_quijote_sp:\n",
    "  print(token.text, token.pos_)\n",
    "  contador= contador + 1\n",
    "  if contador > 30:\n",
    "    break"
   ]
  },
  {
   "cell_type": "markdown",
   "id": "4714bfb7",
   "metadata": {},
   "source": [
    "También es posible realizar una extracción de entidades:"
   ]
  },
  {
   "cell_type": "code",
   "execution_count": 20,
   "id": "047b990f",
   "metadata": {},
   "outputs": [
    {
     "name": "stdout",
     "output_type": "stream",
     "text": [
      "la Mancha LOC\n",
      "Una olla de algo más vaca MISC\n",
      "El resto della concluían sayo de velarte MISC\n",
      "Tenía PER\n",
      "Frisaba LOC\n",
      "Era de complexión recia MISC\n",
      "Quieren decir MISC\n",
      "Quijada LOC\n",
      "Quesada LOC\n",
      "Quijana LOC\n",
      "año MISC\n",
      "llegó PER\n",
      "Feliciano de Silva PER\n",
      "la sinrazón LOC\n",
      "Aristóteles PER\n",
      "No estaba muy bien con las heridas MISC\n",
      "Pero PER\n",
      "allí PER\n",
      "Cigüenza MISC\n",
      "Palmerín de Ingalaterra PER\n",
      "Amadís de Gaula ORG\n",
      "Nicolás LOC\n",
      "Caballero del Febo LOC\n",
      "Galaor PER\n",
      "Amadís PER\n",
      "Gaula PER\n",
      "zaga LOC\n"
     ]
    }
   ],
   "source": [
    "for ent in don_quijote_sp.ents:\n",
    "  print(ent.text, ent.label_)"
   ]
  },
  {
   "cell_type": "markdown",
   "id": "9ae9d9e5",
   "metadata": {},
   "source": [
    "Observamos que el modelo acierta en muchas ocasiones, pero en otras muchas no acaba de afinar. Es importante entender también la dificultad del texto por su antigüedad. Los modelos tienden a funcionar mejor cuando el lenguaje es más popular:"
   ]
  },
  {
   "cell_type": "code",
   "execution_count": 21,
   "id": "28fb94bd",
   "metadata": {},
   "outputs": [
    {
     "name": "stdout",
     "output_type": "stream",
     "text": [
      "Donald Trump PER\n",
      "Joe Biden PER\n",
      "Nueva York LOC\n",
      "Estados Unidos LOC\n"
     ]
    }
   ],
   "source": [
    "example_sentence = model_sp(\"Donald Trump y Joe Biden se batirán en los próximos comicios de la ciudad de Nueva York por el gobierno de Estados Unidos.\")\n",
    "for ent in example_sentence.ents:\n",
    "  print(ent.text, ent.label_)"
   ]
  },
  {
   "cell_type": "markdown",
   "id": "1035ba87",
   "metadata": {},
   "source": [
    "# ***Conclusiones***"
   ]
  },
  {
   "cell_type": "markdown",
   "id": "57e87035",
   "metadata": {},
   "source": [
    "En este cuaderno hemos explorado brevemente los módulos NLTK y Spacy y hemos visto cómo apoyándonos en ellos es sencillo realizar el preprocesamiento de un texto."
   ]
  }
 ],
 "metadata": {
  "kernelspec": {
   "display_name": "Python 3",
   "language": "python",
   "name": "python3"
  },
  "language_info": {
   "codemirror_mode": {
    "name": "ipython",
    "version": 3
   },
   "file_extension": ".py",
   "mimetype": "text/x-python",
   "name": "python",
   "nbconvert_exporter": "python",
   "pygments_lexer": "ipython3",
   "version": "3.11.0"
  }
 },
 "nbformat": 4,
 "nbformat_minor": 5
}
